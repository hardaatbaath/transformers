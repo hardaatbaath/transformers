{
  "nbformat": 4,
  "nbformat_minor": 0,
  "metadata": {
    "colab": {
      "provenance": [],
      "gpuType": "T4"
    },
    "kernelspec": {
      "name": "python3",
      "display_name": "Python 3"
    },
    "language_info": {
      "name": "python"
    },
    "accelerator": "GPU"
  },
  "cells": [
    {
      "cell_type": "code",
      "source": [
        "!pip install torchmetrics\n",
        "!pip install datasets\n",
        "!pip install tokenizers"
      ],
      "metadata": {
        "id": "eui-AtLbgp5F"
      },
      "execution_count": null,
      "outputs": []
    },
    {
      "cell_type": "code",
      "source": [
        "!git clone https://github.com/hardaatbaath/transformers.git"
      ],
      "metadata": {
        "id": "lGMX7BfTnEOs"
      },
      "execution_count": null,
      "outputs": []
    },
    {
      "cell_type": "code",
      "execution_count": 12,
      "metadata": {
        "id": "1J29D9mCgJfB"
      },
      "outputs": [],
      "source": [
        "from config import get_config\n",
        "from train import train_model"
      ]
    },
    {
      "cell_type": "code",
      "source": [
        "config = get_config()\n",
        "train_model(config)"
      ],
      "metadata": {
        "id": "4W8myZfwhD9R"
      },
      "execution_count": null,
      "outputs": []
    }
  ]
}