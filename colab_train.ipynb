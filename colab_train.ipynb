{
  "cells": [
    {
      "cell_type": "code",
      "execution_count": null,
      "metadata": {
        "id": "eui-AtLbgp5F"
      },
      "outputs": [],
      "source": [
        "!pip install torchmetrics\n",
        "!pip install datasets\n",
        "!pip install tokenizers"
      ]
    },
    {
      "cell_type": "code",
      "execution_count": null,
      "metadata": {
        "id": "lGMX7BfTnEOs"
      },
      "outputs": [],
      "source": [
        "!wget https://github.com/hardaatbaath/transformers_pytorch/blob/main/config.py\n",
        "!wget https://github.com/hardaatbaath/transformers_pytorch/blob/main/dataset.py\n",
        "!wget https://github.com/hardaatbaath/transformers_pytorch/blob/main/model.py\n",
        "!wget https://github.com/hardaatbaath/transformers_pytorch/blob/main/train.py"
      ]
    },
    {
      "cell_type": "code",
      "execution_count": 12,
      "metadata": {
        "id": "1J29D9mCgJfB"
      },
      "outputs": [],
      "source": [
        "from config import get_config\n",
        "from train import train_model"
      ]
    },
    {
      "cell_type": "code",
      "execution_count": null,
      "metadata": {
        "id": "4W8myZfwhD9R"
      },
      "outputs": [],
      "source": [
        "config = get_config()\n",
        "train_model(config)"
      ]
    }
  ],
  "metadata": {
    "accelerator": "GPU",
    "colab": {
      "gpuType": "T4",
      "provenance": []
    },
    "kernelspec": {
      "display_name": "Python 3",
      "name": "python3"
    },
    "language_info": {
      "name": "python"
    }
  },
  "nbformat": 4,
  "nbformat_minor": 0
}
